{
  "nbformat": 4,
  "nbformat_minor": 0,
  "metadata": {
    "colab": {
      "provenance": [],
      "authorship_tag": "ABX9TyP7TFDeS4kuLey/h8xirArw",
      "include_colab_link": true
    },
    "kernelspec": {
      "name": "python3",
      "display_name": "Python 3"
    },
    "language_info": {
      "name": "python"
    }
  },
  "cells": [
    {
      "cell_type": "markdown",
      "metadata": {
        "id": "view-in-github",
        "colab_type": "text"
      },
      "source": [
        "<a href=\"https://colab.research.google.com/github/20A31A0527/Training_3/blob/main/DAY_3.ipynb\" target=\"_parent\"><img src=\"https://colab.research.google.com/assets/colab-badge.svg\" alt=\"Open In Colab\"/></a>"
      ]
    },
    {
      "cell_type": "markdown",
      "source": [
        "**GREEDY APPROACH**"
      ],
      "metadata": {
        "id": "yTHPwjqOVSrc"
      }
    },
    {
      "cell_type": "markdown",
      "source": [
        "1.**FORD-FULKERSON ALGORITHM**\n",
        "\n",
        "Terminologies used:\n",
        "\n",
        "    *AUGMENTED PATH:\n",
        "        It is the path available in a flow network.\n",
        "    *RESIDUAL GRAPH:\n",
        "        It represents the flow network that has additional possible flow.\n",
        "    *RESIDUAL CAPACITY:\n",
        "        It is the capacity of the edge after subtracting the flow from the maximum capacity.\n",
        "\n",
        "**WORKING**\n",
        "  \n",
        "     The algorithm follows:\n",
        "       1.Initialize the flow in all the edges to 0.\n",
        "       2.While there is an augmenting path between the source and the sink, add this path to the flow.\n",
        "       3.Update the residual graph.\n",
        "    NOTE:\n",
        "    We can also consider reverse-path if required,\n",
        "    because if we do not consider them, we may never find a maximum flow.\n",
        "\n",
        "\n",
        "**REFERENCE**\n",
        "    \n",
        "    https://www.programiz.com/dsa/ford-fulkerson-algorithm"
      ],
      "metadata": {
        "id": "HPtMejQbTE3s"
      }
    },
    {
      "cell_type": "markdown",
      "source": [
        "2.**DIJKSTRA'S ALOGORITHM**\n",
        "     \n",
        "    * Dijkstra's algorithm allows us to find the shortest path between any two\n",
        "      vertices of a graph.\n",
        "    * It differs from the minimum spanning tree,\n",
        "      because the shortest distance between two vertices might not include all the vertices of the graph.\n",
        "\n",
        "**REFERENCE**\n",
        "     \n",
        "     https://www.programiz.com/dsa/dijkstra-algorithm"
      ],
      "metadata": {
        "id": "V8-IxJamYdhK"
      }
    },
    {
      "cell_type": "code",
      "source": [
        "class Graph():\n",
        "  def __init__(self,vertices):\n",
        "    self.V=vertices\n",
        "    self.graph=[[0 for col in range(vertices)] for row in range(vertices)]\n",
        "  def printSolution(self,dist):\n",
        "    print(\"vertex \\t Distance from the source\")\n",
        "    for node in range(self.V):\n",
        "      print(node,\"\\t\\t\",dist[node])\n",
        "  def minDistance(self,dist,sptSet):\n",
        "    min=1e7\n",
        "    for v in range(self.V):\n",
        "      if dist[v]<min and sptSet[v]==False:\n",
        "        min=dist[v]\n",
        "        min_index=v\n",
        "    return min_index\n",
        "  def dijkstra(self,src):\n",
        "    dist=[1e7]*self.V\n",
        "    dist[src]=0\n",
        "    sptSet=[False]*self.V\n",
        "    for cout in range(self.V):\n",
        "      u=self.minDistance(dist,sptSet)\n",
        "      sptSet[u]=True\n",
        "      for v in range(self.V):\n",
        "        if (self.graph[u][v])>0 and sptSet[v]==False and dist[v]>dist[u]+self.graph[u][v]:\n",
        "          dist[v]=dist[u]+self.graph[u][v]\n",
        "    return self.printSolution(dist)\n",
        "g=Graph(6)\n",
        "g.graph=[[0,4,4,0,0,0],\n",
        "           [4,0,2,0,0,0],\n",
        "           [4,2,0,3,1,6],\n",
        "           [0,0,3,0,0,2],\n",
        "           [0,0,1,0,0,3],\n",
        "           [0,0,6,2,3,0]]\n",
        "g.dijkstra(0)"
      ],
      "metadata": {
        "colab": {
          "base_uri": "https://localhost:8080/"
        },
        "id": "YzsIkpkxiCvG",
        "outputId": "8c98f409-b17c-4ebf-eab7-44f85374ef5b"
      },
      "execution_count": null,
      "outputs": [
        {
          "output_type": "stream",
          "name": "stdout",
          "text": [
            "vertex \t Distance from the source\n",
            "0 \t\t 0\n",
            "1 \t\t 4\n",
            "2 \t\t 4\n",
            "3 \t\t 7\n",
            "4 \t\t 5\n",
            "5 \t\t 8\n"
          ]
        }
      ]
    },
    {
      "cell_type": "markdown",
      "source": [
        "3.**KRUSHKAL'S ALGORITHM**\n",
        "\n",
        "    * Kruskal's algorithm is a minimum spanning tree algorithm that takes a\n",
        "      graph as input,\n",
        "      and finds the subset of the edges of that graph which\n",
        "     1.form a tree that includes every vertex\n",
        "     2. has the minimum sum of weights among all the trees that can be formed from the graph\n",
        "\n",
        "**WORKING**\n",
        "\n",
        "   \n",
        "    The steps for implementing Kruskal's algorithm are as follows:\n",
        "    1. Sort all the edges from low weight to high\n",
        "    2. Take the edge with the lowest weight and add it to the spanning tree.\n",
        "       If adding the edge created a cycle, then reject this edge.\n",
        "    3. Keep adding edges until we reach all vertices.\n",
        "**REFERENCE**\n",
        "       \n",
        "       https://www.programiz.com/dsa/kruskal-algorithm"
      ],
      "metadata": {
        "id": "Nv3RAaSHDQcj"
      }
    },
    {
      "cell_type": "markdown",
      "source": [
        "4.**PRIMS ALGORITHM**\n",
        "   \n",
        "    * Prim's algorithm is a minimum spanning tree algorithm that takes a graph\n",
        "      as input\n",
        "      and finds the subset of the edges of that graph which\n",
        "      1. form a tree that includes every vertex\n",
        "      2. has the minimum sum of weights among all the trees that can be formed from the graph\n",
        "\n",
        "**WORKING**\n",
        "      \n",
        "      The steps for implementing Prim's algorithm are as follows:\n",
        "      1. Initialize the minimum spanning tree with a vertex chosen at random.\n",
        "      2. Find all the edges that connect the tree to new vertices, find the\n",
        "        minimum and add it to the tree\n",
        "      3. Keep repeating step 2 until we get a minimum spanning tree\n",
        "\n",
        "**REFERENCE**\n",
        "      \n",
        "      https://www.programiz.com/dsa/prim-algorithm"
      ],
      "metadata": {
        "id": "Xlc8IelvMR0G"
      }
    },
    {
      "cell_type": "markdown",
      "source": [
        "**FLOYD'S LOOP DETECTION ALGORITHM**\n",
        "        \n",
        "    Pseudocode:\n",
        "      1. Initialize two-pointers and start traversing the linked list.\n",
        "      2. Move the slow pointer by one position.\n",
        "      3. Move the fast pointer by two positions.\n",
        "      4. If both pointers meet at some point then a loop exists and if the fast\n",
        "       pointer meets the end position then no loop exists."
      ],
      "metadata": {
        "id": "jDBVJeVfNjNn"
      }
    },
    {
      "cell_type": "code",
      "source": [
        "#FLOYDS CYCLE DETECTION\n",
        "class Node:\n",
        "\tdef __init__(self, d):\n",
        "\t\tself.data = d\n",
        "\t\tself.next = None\n",
        "\n",
        "# initialize a new head for the linked list\n",
        "head = None\n",
        "\n",
        "# detect if there is a loop\n",
        "# in the linked list\n",
        "def detectLoop(head):\n",
        "\tslowPointer = head\n",
        "\tfastPointer = head\n",
        "\n",
        "\twhile (slowPointer != None\n",
        "\t\tand fastPointer != None\n",
        "\t\tand fastPointer.next != None):\n",
        "\t\tslowPointer = slowPointer.next\n",
        "\t\tfastPointer = fastPointer.next.next\n",
        "\t\tif (slowPointer == fastPointer):\n",
        "\t\t\treturn 1\n",
        "\n",
        "\treturn 0\n",
        "\n",
        "# inserting new values\n",
        "head = Node(10)\n",
        "head.next = Node(20)\n",
        "head.next.next = Node(30)\n",
        "head.next.next.next = Node(40)\n",
        "head.next.next.next.next = Node(50)\n",
        "\n",
        "# adding a loop for the sake\n",
        "# of this example\n",
        "temp = head\n",
        "while (temp.next != None):#\n",
        "\ttemp = temp.next\n",
        "\n",
        "temp.next = head\n",
        "\n",
        "# loop added;\n",
        "if (detectLoop(head)):\n",
        "\tprint(\"Loop exists in the Linked List\")\n",
        "else:\n",
        "\tprint(\"Loop does not exists in the Linked List\")"
      ],
      "metadata": {
        "colab": {
          "base_uri": "https://localhost:8080/"
        },
        "id": "veqzuvznXL47",
        "outputId": "3b55f70d-136b-459e-f67f-b8066a17c8ce"
      },
      "execution_count": null,
      "outputs": [
        {
          "output_type": "stream",
          "name": "stdout",
          "text": [
            "Loop exists in the Linked List\n"
          ]
        }
      ]
    },
    {
      "cell_type": "markdown",
      "source": [
        "**KADANE'S ALGORITHM**\n",
        "       \n",
        "    Initialize:\n",
        "    * max_so_far = INT_MIN\n",
        "    * max_ending_here = 0\n",
        "    Loop for each element of the array\n",
        "      (a) max_ending_here = max_ending_here + a[i]\n",
        "      (b) if(max_so_far < max_ending_here)\n",
        "            max_so_far = max_ending_here\n",
        "      (c) if(max_ending_here < 0)\n",
        "            max_ending_here = 0\n",
        "      return max_so_far"
      ],
      "metadata": {
        "id": "fcJRd-zcf-J8"
      }
    }
  ]
}