{
  "nbformat": 4,
  "nbformat_minor": 0,
  "metadata": {
    "colab": {
      "provenance": [],
      "authorship_tag": "ABX9TyMjN5uIp/ufEpRKt7KK6Yh5",
      "include_colab_link": true
    },
    "kernelspec": {
      "name": "python3",
      "display_name": "Python 3"
    },
    "language_info": {
      "name": "python"
    }
  },
  "cells": [
    {
      "cell_type": "markdown",
      "metadata": {
        "id": "view-in-github",
        "colab_type": "text"
      },
      "source": [
        "<a href=\"https://colab.research.google.com/github/20A31A0527/Training_3/blob/main/DAY_1.ipynb\" target=\"_parent\"><img src=\"https://colab.research.google.com/assets/colab-badge.svg\" alt=\"Open In Colab\"/></a>"
      ]
    },
    {
      "cell_type": "code",
      "execution_count": null,
      "metadata": {
        "id": "d25EAcGV5D8Q",
        "colab": {
          "base_uri": "https://localhost:8080/"
        },
        "outputId": "93d87792-e352-4cb7-dfdb-8bab741ab942"
      },
      "outputs": [
        {
          "output_type": "stream",
          "name": "stdout",
          "text": [
            "Enter a number:4\n",
            "24\n"
          ]
        }
      ],
      "source": [
        "#FACTORIAL OF ANY GIVEN NUMBER\n",
        "n=int(input(\"Enter a number:\"))\n",
        "fact=1\n",
        "for i in range(1,n+1):\n",
        "  fact=fact*i\n",
        "print(fact)"
      ]
    },
    {
      "cell_type": "code",
      "source": [
        "#FACTORIAL USING RECURSION\n",
        "def fact(n):\n",
        "  if n==1 or n==0:\n",
        "    return 1\n",
        "  else:\n",
        "    return n*fact(n-1)\n",
        "n=int(input(\"Enter a number:\"))\n",
        "print(fact(n))"
      ],
      "metadata": {
        "colab": {
          "base_uri": "https://localhost:8080/"
        },
        "id": "PpllExo0Dkrk",
        "outputId": "9e3c8d10-ba60-419f-b053-53475f1d0c21"
      },
      "execution_count": null,
      "outputs": [
        {
          "output_type": "stream",
          "name": "stdout",
          "text": [
            "Enter a number:6\n",
            "720\n"
          ]
        }
      ]
    },
    {
      "cell_type": "code",
      "source": [
        "#SUM OF FIRST 5 NATURAL NUMBERS  USING FUNCTION\n",
        "def sum(n):\n",
        "  sum=0\n",
        "  for i in range(n+1):\n",
        "    sum=sum+i\n",
        "  return sum\n",
        "n=int(input(\"Enter range:\"))\n",
        "print(sum(n))\n"
      ],
      "metadata": {
        "colab": {
          "base_uri": "https://localhost:8080/"
        },
        "id": "WmG5eyX9FtKT",
        "outputId": "7f08a3e3-7b95-44da-f24b-350b4bfd15b9"
      },
      "execution_count": null,
      "outputs": [
        {
          "output_type": "stream",
          "name": "stdout",
          "text": [
            "Enter range:5\n",
            "15\n"
          ]
        }
      ]
    },
    {
      "cell_type": "code",
      "source": [
        "#SUM OF FIRST 5 NATURAL NUMBERS  USING RECURSION FUNCTION\n",
        "def sum(n):\n",
        "  if n==0:\n",
        "    return 0\n",
        "  else:\n",
        "    return n+sum(n-1)\n",
        "n=int(input(\"Enter n:\"))\n",
        "print(sum(n))"
      ],
      "metadata": {
        "colab": {
          "base_uri": "https://localhost:8080/"
        },
        "id": "px044gnsH_W9",
        "outputId": "c61dc079-4c41-4384-eb28-e56dba9321fb"
      },
      "execution_count": null,
      "outputs": [
        {
          "output_type": "stream",
          "name": "stdout",
          "text": [
            "Enter n:5\n",
            "15\n"
          ]
        }
      ]
    },
    {
      "cell_type": "code",
      "source": [
        "#FIBONOCCI SERIES USING RECURSION\n",
        "def fib(n):\n",
        "  if n<0:\n",
        "    print(\"invalid input\")\n",
        "  elif n==0:\n",
        "    return 0\n",
        "  elif n==1 or n==2:\n",
        "    return 1\n",
        "  else:\n",
        "    return fib(n-1)+fib(n-2)\n",
        "n=int(input(\"Enter the range of Fibonocci series:\"))\n",
        "print(\"Value at given range is\",fib(n))"
      ],
      "metadata": {
        "colab": {
          "base_uri": "https://localhost:8080/"
        },
        "id": "-CI8mIWvJJEe",
        "outputId": "02fe6f04-2ebb-4f01-e558-9d114bcc500e"
      },
      "execution_count": null,
      "outputs": [
        {
          "output_type": "stream",
          "name": "stdout",
          "text": [
            "Enter the range of Fibonocci series:5\n",
            "Value at given range is 5\n"
          ]
        }
      ]
    },
    {
      "cell_type": "markdown",
      "source": [
        "**How Dynamic Programming works?**\n",
        "    \n",
        "    It  works by storing the result of subproblems so that when their solutions are required,\n",
        "    they are at hand and we do not need to recalculate them.\n"
      ],
      "metadata": {
        "id": "RP2D0Jf6UO5p"
      }
    },
    {
      "cell_type": "code",
      "source": [
        "#FINDING POWER OF A NUMBER USING RECURSION\n",
        "def pow(n,p):\n",
        "  if p==0:\n",
        "    return 1\n",
        "  else:\n",
        "    return n*(pow(n,p-1))\n",
        "n=int(input(\"Enter base value:\"))\n",
        "p=int(input(\"Enter exp value:\"))\n",
        "print(\"Power is:\",pow(n,p))"
      ],
      "metadata": {
        "id": "htfp53DpMlrf",
        "colab": {
          "base_uri": "https://localhost:8080/"
        },
        "outputId": "b002711c-59fa-40e7-89fe-8e50210a4d5e"
      },
      "execution_count": null,
      "outputs": [
        {
          "output_type": "stream",
          "name": "stdout",
          "text": [
            "Enter base value:5\n",
            "Enter exp value:2\n",
            "Power is: 25\n"
          ]
        }
      ]
    },
    {
      "cell_type": "code",
      "source": [
        "#PYTHON PROGRAM TO CHECK IF A NUMBER IS EVEN OR ODD\n",
        "num=int(input(\"Enter a number:\"))\n",
        "if num%2==0:\n",
        "  print(num,\"is Even\")\n",
        "else:\n",
        "  print(num,\"is Odd\")"
      ],
      "metadata": {
        "colab": {
          "base_uri": "https://localhost:8080/"
        },
        "id": "jhvqBp4kvelN",
        "outputId": "876136c4-0f2a-402b-dc24-c2f546bf9897"
      },
      "execution_count": null,
      "outputs": [
        {
          "output_type": "stream",
          "name": "stdout",
          "text": [
            "Enter a number:56\n",
            "56 is Even\n"
          ]
        }
      ]
    },
    {
      "cell_type": "code",
      "source": [
        "#PROGRAM TO CHECK LEAP YEAR\n",
        "n=int(input(\"Enter an year:\"))\n",
        "if n%400==0 or n%100!=0:\n",
        "  if n%4==0:\n",
        "    print(n,\"is Leap Year\")\n",
        "  else:\n",
        "    print(n,\"is not Leap year\")"
      ],
      "metadata": {
        "colab": {
          "base_uri": "https://localhost:8080/"
        },
        "id": "lJjqjfFCw19d",
        "outputId": "78e2d027-6025-4904-d63b-08599eaa411c"
      },
      "execution_count": null,
      "outputs": [
        {
          "output_type": "stream",
          "name": "stdout",
          "text": [
            "Enter an year:2020\n",
            "2020 is Leap Year\n"
          ]
        }
      ]
    },
    {
      "cell_type": "code",
      "source": [
        "#TO FIND LARGEST AMONG THREE NUMBERS\n",
        "a,b,c=map(int,input(\"Enter three numbers:\").split(\" \"))\n",
        "if a>b:\n",
        "  if a>c:\n",
        "    print(a,\"is greater\")\n",
        "elif b>c:\n",
        "  if b>a:\n",
        "    print(b,\"is greater\")\n",
        "elif c>a:\n",
        "  if c>b:\n",
        "    print(c,\"is greater\")"
      ],
      "metadata": {
        "colab": {
          "base_uri": "https://localhost:8080/"
        },
        "id": "mcad1_UMxGbv",
        "outputId": "6ea1f77c-6669-4365-b238-36619b143d0b"
      },
      "execution_count": null,
      "outputs": [
        {
          "output_type": "stream",
          "name": "stdout",
          "text": [
            "Enter three numbers:99 5 15\n",
            "99 is greater\n"
          ]
        }
      ]
    },
    {
      "cell_type": "code",
      "source": [
        "#TO CHECK PRIME NUMBER\n",
        "num=int(input(\"Enter a number:\"))\n",
        "for i in range(2,num):\n",
        "  if num%i==0:\n",
        "    flag=1\n",
        "  else:\n",
        "    flag=0\n",
        "if flag==1:\n",
        "  print(num,\"is prime\")\n",
        "else:\n",
        "  print(num,\"is not prime\")\n"
      ],
      "metadata": {
        "colab": {
          "base_uri": "https://localhost:8080/"
        },
        "id": "69qoSTx4xNAt",
        "outputId": "361a1a53-e804-4382-ae78-a5c68533b9fc"
      },
      "execution_count": null,
      "outputs": [
        {
          "output_type": "stream",
          "name": "stdout",
          "text": [
            "Enter a number:14\n",
            "14 is not prime\n"
          ]
        }
      ]
    },
    {
      "cell_type": "code",
      "source": [
        "#TO PRINT ALL PRIME NUMBERS IN AN INTERVAL\n",
        "n=int(input(\"Enter range:\"))\n",
        "e=int(input(\"Enter range:\"))\n",
        "for i in range(n,e+1):\n",
        "  flag=1\n",
        "  for j in range(2,i):\n",
        "    if i==2:\n",
        "      flag=1\n",
        "    elif i%j==0:\n",
        "      flag=0\n",
        "  if flag==1:\n",
        "    print(i)"
      ],
      "metadata": {
        "colab": {
          "base_uri": "https://localhost:8080/"
        },
        "id": "HeQubHZxxP-t",
        "outputId": "046f175f-a9ac-46d4-d57d-c6813bee48e2"
      },
      "execution_count": null,
      "outputs": [
        {
          "output_type": "stream",
          "name": "stdout",
          "text": [
            "Enter range:4\n",
            "Enter range:7\n",
            "5\n",
            "7\n"
          ]
        }
      ]
    },
    {
      "cell_type": "code",
      "source": [
        "#TO DISPLAY MULTIPLICATION TABLE\n",
        "num=int(input(\"Enter a number:\"))\n",
        "print(\"MULTIPLICATION TABLE OF \",num,\"is:\")\n",
        "print(\"----------------------\")\n",
        "for i in range(1,11):\n",
        "  print(num,\"X\",i,\"=\",num*i)"
      ],
      "metadata": {
        "colab": {
          "base_uri": "https://localhost:8080/"
        },
        "id": "_P4OmdA2xa7N",
        "outputId": "59a995aa-924e-463c-91c9-6f01667553ad"
      },
      "execution_count": null,
      "outputs": [
        {
          "output_type": "stream",
          "name": "stdout",
          "text": [
            "Enter a number:2\n",
            "MULTIPLICATION TABLE OF  2 is:\n",
            "----------------------\n",
            "2 X 1 = 2\n",
            "2 X 2 = 4\n",
            "2 X 3 = 6\n",
            "2 X 4 = 8\n",
            "2 X 5 = 10\n",
            "2 X 6 = 12\n",
            "2 X 7 = 14\n",
            "2 X 8 = 16\n",
            "2 X 9 = 18\n",
            "2 X 10 = 20\n"
          ]
        }
      ]
    },
    {
      "cell_type": "code",
      "source": [
        "#TO CHECK ARMSTRONG NUMBER\n",
        "def count(n):\n",
        "  c=0\n",
        "  while n>0:\n",
        "    n1=n%10\n",
        "    n//=10\n",
        "    c+=1\n",
        "  return c\n",
        "n=int(input(\"Enter a number:\"))\n",
        "sum=0\n",
        "c=count(n)\n",
        "temp=n\n",
        "while temp>0:\n",
        "  digit=temp%10\n",
        "  sum+=digit**c\n",
        "  temp//=10\n",
        "if sum==n:\n",
        "  print(n,\"is armstrong number\")\n",
        "else:\n",
        "  print(n,\"is not an armstrong number\")\n",
        "\n",
        "\n"
      ],
      "metadata": {
        "id": "8yU18C1oxkc1",
        "colab": {
          "base_uri": "https://localhost:8080/"
        },
        "outputId": "c4d67af5-e254-494a-d166-8512daa15ac9"
      },
      "execution_count": null,
      "outputs": [
        {
          "output_type": "stream",
          "name": "stdout",
          "text": [
            "Enter a number:1634\n",
            "1634 is armstrong number\n"
          ]
        }
      ]
    },
    {
      "cell_type": "code",
      "source": [
        "\n",
        "#TO FIND ARMSTRONG IN AN INTERVAL\n",
        "def count(n):\n",
        "  c=0\n",
        "  while n>0:\n",
        "    n1=n%10\n",
        "    n//=10\n",
        "    c+=1\n",
        "  return c\n",
        "def armstrong(n):\n",
        "  n2=n\n",
        "  t=0\n",
        "  c=count(n)\n",
        "  while n>0:\n",
        "    n1=n%10\n",
        "    t+=n1**c\n",
        "    n//=10\n",
        "  if n2==t:\n",
        "    return t\n",
        "n,n1=map(int,input(\"Enter the range:\").split())\n",
        "for i in range(n,n1+1):\n",
        "  if armstrong(i)!=None:\n",
        "    print(armstrong(i),end=\" \")\n"
      ],
      "metadata": {
        "id": "zxTFa0qVxoOd",
        "colab": {
          "base_uri": "https://localhost:8080/"
        },
        "outputId": "73b2e2f4-86a7-4de5-b0f0-28ebe5efa176"
      },
      "execution_count": null,
      "outputs": [
        {
          "output_type": "stream",
          "name": "stdout",
          "text": [
            "Enter the range:1 2000\n",
            "1 2 3 4 5 6 7 8 9 153 370 371 407 1634 "
          ]
        }
      ]
    }
  ]
}