{
  "nbformat": 4,
  "nbformat_minor": 0,
  "metadata": {
    "colab": {
      "provenance": [],
      "authorship_tag": "ABX9TyPXNDxiXYl52jtPjVoQ+8mv",
      "include_colab_link": true
    },
    "kernelspec": {
      "name": "python3",
      "display_name": "Python 3"
    },
    "language_info": {
      "name": "python"
    }
  },
  "cells": [
    {
      "cell_type": "markdown",
      "metadata": {
        "id": "view-in-github",
        "colab_type": "text"
      },
      "source": [
        "<a href=\"https://colab.research.google.com/github/20A31A0527/Training_3/blob/main/DAY_2.ipynb\" target=\"_parent\"><img src=\"https://colab.research.google.com/assets/colab-badge.svg\" alt=\"Open In Colab\"/></a>"
      ]
    },
    {
      "cell_type": "markdown",
      "source": [
        "**FLOYD WARSHALL**"
      ],
      "metadata": {
        "id": "sVPBr7TwjnXE"
      }
    },
    {
      "cell_type": "code",
      "source": [
        "INF=999\n",
        "nv=4\n",
        "def floyd_warshall(G):\n",
        "  distance=list(map(lambda i:list(map(lambda j:j,i)),G))\n",
        "  for k in range(nv):\n",
        "    for i in range(nv):\n",
        "      for j in range(nv):\n",
        "        distance[i][j]=min(distance[i][j],distance[i][k]+distance[k][j])\n",
        "  print_solution(distance)\n",
        "def print_solution(distance):\n",
        "  for i in range(nv):\n",
        "    for j in range(nv):\n",
        "      if distance[i][j]==INF:\n",
        "        print(\"INF\",end=\" \")\n",
        "      else:\n",
        "        print(distance[i][j],end=\" \")\n",
        "    print(\" \")\n",
        "G=[[0,3,INF,5],\n",
        "   [2,0,INF,4],\n",
        "   [INF,1,0,INF],\n",
        "   [INF,INF,2,0]]\n",
        "floyd_warshall(G)"
      ],
      "metadata": {
        "colab": {
          "base_uri": "https://localhost:8080/"
        },
        "id": "g2MSE8k9jvRL",
        "outputId": "d7ef994e-51cf-4cbb-f127-0370b30844ad"
      },
      "execution_count": 1,
      "outputs": [
        {
          "output_type": "stream",
          "name": "stdout",
          "text": [
            "0 3 7 5  \n",
            "2 0 6 4  \n",
            "3 1 0 5  \n",
            "5 3 2 0  \n"
          ]
        }
      ]
    },
    {
      "cell_type": "markdown",
      "source": [
        "**SUB ARRAY MINIMUM**"
      ],
      "metadata": {
        "id": "ZVYfg8coj7BQ"
      }
    },
    {
      "cell_type": "code",
      "source": [
        "l=[5,1,-2,3,8,-10]\n",
        "l1=[]\n",
        "for i in range(len(l)):\n",
        "  if i==0:\n",
        "    l1.append(l[i])\n",
        "  else:\n",
        "    s=l[i]+l1[i-1]\n",
        "    l1.append(s)\n",
        "print(min(l1))"
      ],
      "metadata": {
        "colab": {
          "base_uri": "https://localhost:8080/"
        },
        "id": "2s7U7dpQj_2l",
        "outputId": "096ffdf7-7ea2-45ff-d475-3485e5f39160"
      },
      "execution_count": 3,
      "outputs": [
        {
          "output_type": "stream",
          "name": "stdout",
          "text": [
            "4\n"
          ]
        }
      ]
    }
  ]
}